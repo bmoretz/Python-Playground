{
 "cells": [
  {
   "cell_type": "markdown",
   "metadata": {},
   "source": [
    "# MSDS 400 Spring 2018 Answers"
   ]
  },
  {
   "cell_type": "markdown",
   "metadata": {},
   "source": [
    "**2.** Northwest Molded molds plastic handles which cost \\$1.00 per handle to mold. The fixed cost to run the molding machine is \\$7,188 per week. If the company sells the handles for \\$4.00 each, how many handles must be molded weekly to break\n",
    "even?"
   ]
  },
  {
   "cell_type": "code",
   "execution_count": 8,
   "metadata": {},
   "outputs": [
    {
     "name": "stdout",
     "output_type": "stream",
     "text": [
      "Number of handles to be molded weekly to break-even (or cover the fixed costs) = 2396\n"
     ]
    }
   ],
   "source": [
    "# Individual unit costs\n",
    "handle_moulding_cost = 1.0\n",
    "handle_sales_price = 4.0\n",
    "\n",
    "# Fixed weekly costs\n",
    "weekly_fixed_costs = 7188.0\n",
    "\n",
    "# Number of handles needed to break-even or cover fixed costs\n",
    "break_even_total = round(weekly_fixed_costs/(handle_sales_price-handle_moulding_cost))\n",
    "\n",
    "print(\"Number of handles to be molded weekly to break-even (or cover the fixed costs) = {}\".format(break_even_total,\"{:d}\"))\n"
   ]
  },
  {
   "cell_type": "markdown",
   "metadata": {},
   "source": [
    "**3.** A toy making company has at least 300 squares of felt, 700 oz of stuffing, and 230 ft of trim to make dogs and dinosaurs. A dog uses 1 square of felt, 4 oz of stuffing, and 1 ft of trim. A dinosaur uses 2 squares of felt, 3 oz of stuffing, and 1 ft of trim. It costs the company \\$1.52 to make each dog and $1.67 for each dinosaur. What is the company's minimum cost?"
   ]
  },
  {
   "cell_type": "markdown",
   "metadata": {},
   "source": [
    "Let x be the number of dogs made <br>\n",
    "Let y be the pounds of dinosaurs made <br>\n",
    "Cost to be minimized = 1.52 x + 1.67 y <br>\n",
    "Subject to:\n",
    "* x + 2y ≤ 300  \n",
    "* 4 x  + 3 y ≥ 700 \n",
    "* x + y ≥ 230 \n",
    "* x ≥ 0, y ≥ 0 "
   ]
  },
  {
   "cell_type": "code",
   "execution_count": 9,
   "metadata": {},
   "outputs": [],
   "source": [
    "import numpy as np\n",
    "from numpy import matrix, transpose, dot"
   ]
  },
  {
   "cell_type": "code",
   "execution_count": 10,
   "metadata": {},
   "outputs": [
    {
     "name": "stdout",
     "output_type": "stream",
     "text": [
      "[100. 100.]\n",
      "[160.  70.]\n",
      "[ 10. 220.]\n"
     ]
    }
   ],
   "source": [
    "# Set up the constraints and obtain the corner points\n",
    "a1 = np.array([[1,2], [4,3]])\n",
    "b1 = np.array([300,700])\n",
    "\n",
    "# solve the two sets of equations at a time to get points of intersection of the lines\n",
    "c1 = np.linalg.solve(a1, b1)\n",
    "print(c1)\n",
    "\n",
    "# Second pair of corner points\n",
    "a2 = np.array([[1,2], [1,1]])\n",
    "b2 = np.array([300,230])\n",
    "c2 = np.linalg.solve(a2, b2)\n",
    "print(c2)\n",
    "\n",
    "# Third pair of corner points\n",
    "a3 = np.array([[4,3], [1,1]])\n",
    "b3 = np.array([700,230])\n",
    "c3 = np.linalg.solve(a3, b3)\n",
    "print(c3)\n"
   ]
  },
  {
   "cell_type": "code",
   "execution_count": 11,
   "metadata": {},
   "outputs": [
    {
     "name": "stdout",
     "output_type": "stream",
     "text": [
      "Value of Objective Function at Each Corner Point [[319. ]\n",
      " [360.1]\n",
      " [382.6]]\n",
      "Minimum cost of the company is  319.0\n"
     ]
    }
   ],
   "source": [
    "# Use the corner points and compute dot product to determine the minimum value \n",
    "x= [100., 160., 10.]\n",
    "y= [100., 70., 220.]\n",
    "\n",
    "obj= matrix([1.52,1.67])\n",
    "obj= transpose(obj)\n",
    "corners= matrix([x,y])\n",
    "corners= transpose(corners)\n",
    "result= dot(corners,obj)\n",
    "print (\"Value of Objective Function at Each Corner Point\", result)\n",
    "print (\"Minimum cost of the company is \",result.min())\n"
   ]
  },
  {
   "cell_type": "markdown",
   "metadata": {},
   "source": [
    "** 4.** A company's lawn seed mixtures contain three types of seeds: bluegrass, rye, and Bermuda. The costs per pound of the\n",
    "three types are cents, cents, and cents, respectively. In each batch there must be at least % bluegrass seed and\n",
    "the amount of must be two-thirds the amount of . To fill current orders the company must make at\n",
    "least pounds of the mixture. How much of each kind of seed should be used to minimize cost?"
   ]
  },
  {
   "cell_type": "markdown",
   "metadata": {},
   "source": [
    "Let x be the pounds of bluegrass seed \n",
    "Let y be the pounds of rye seed \n",
    "Let z be the pounds of Bermuda seed \n",
    "Cost to be minimized = 0.11 x + 0.14 y + 0.06 z <br>\n",
    "Subject to:\n",
    "* x ≥ 0.20(x + y + z) \n",
    "* z ≤ 2/3 y \n",
    "* x + y + z ≥ 8000 \n",
    "* x ≥ 0 y ≥ 0 z ≥ 0 \n"
   ]
  },
  {
   "cell_type": "code",
   "execution_count": 13,
   "metadata": {},
   "outputs": [
    {
     "name": "stdout",
     "output_type": "stream",
     "text": [
      "Pounds of Bluegrass to be used = 1600.0\n",
      "Pounds of Rye to be used = 3840.0\n",
      "Pounds of Bermuda to be used = 2560.0\n",
      "Minimum Cost is 867.2\n"
     ]
    }
   ],
   "source": [
    "from pulp import LpVariable, LpProblem, LpMaximize, GLPK, LpStatus, value, LpMinimize\n",
    "\n",
    "model = LpProblem(\"problem\", LpMinimize)\n",
    "x = LpVariable(\"x\", 0, None) # x >= 0\n",
    "y = LpVariable(\"y\", 0, None) # y >= 0\n",
    "z = LpVariable(\"z\", 0, None) # z >= 0\n",
    "\n",
    "model += 0.80*x - 0.20*y - 0.20*z >= 0\n",
    "model += 2/3*y - z >= 0\n",
    "model += x + y + z >= 8000\n",
    "\n",
    "model += 0.11*x + 0.14*y + 0.06*z\n",
    "\n",
    "# solve the problem\n",
    "status = model.solve()\n",
    "LpStatus[status]\n",
    " \n",
    "\n",
    "print('Pounds of Bluegrass to be used = {}'.format(value(x),'%d'))\n",
    "print('Pounds of Rye to be used = {}'.format(value(y),'%d'))\n",
    "print('Pounds of Bermuda to be used = {}'.format(value(z),'%d'))\n",
    "\n",
    "minimum_cost = 0.11 * value(x) + 0.14 * value(y) + 0.06 * value(z) \n",
    "\n",
    "print('Minimum Cost is {}'.format(minimum_cost,'%.2f'))\n"
   ]
  },
  {
   "cell_type": "markdown",
   "metadata": {},
   "source": [
    "**15.** After a long study, tree scientists conclude that a eucalyptus tree will grow at the rate of 0.7 + 4/(t + 1)<sup>1/3</sup> feet per year,\n",
    "where t is the time (in years).<br>\n",
    "(a) Find the number of feet that the tree will grow in the second year.<br>\n",
    "(b) Find the number of feet the tree will grow in the third year.<br>"
   ]
  },
  {
   "cell_type": "code",
   "execution_count": 14,
   "metadata": {},
   "outputs": [
    {
     "name": "stdout",
     "output_type": "stream",
     "text": [
      "The total number of feet that the tree will grow in the second year is 0.978 ft.\n",
      "The total number of feet that the tree will grow during the third year is 0.797 ft.\n"
     ]
    }
   ],
   "source": [
    "# Growth Function\n",
    "\n",
    "def f(x):\n",
    "    f = 0.7 + 4/(x+1)**3    \n",
    "    return f\n",
    "\n",
    "# Integrate is a general numerical integration function.  It requires\n",
    "# an interval [a,b] and n = the number of subintervals used for integration.\n",
    "# Integrate uses the function defined as f above.  For details refer\n",
    "# to Lial Section 15.3.\n",
    "\n",
    "def integrate(a,b,n):\n",
    "    sum = 0.0\n",
    "    delta = (b-a)/n\n",
    "    i = 0\n",
    "    while i < n:\n",
    "        sum = sum + delta*(f(a+delta*(i+1))+f(a+delta*i))/2\n",
    "        i = i+1\n",
    "    return sum\n",
    "\n",
    "# Growth in the second year\n",
    "b = 2.0\n",
    "a = 1.0\n",
    "n = 100\n",
    "\n",
    "second_year_growth = round(integrate(a,b,n),3)\n",
    "\n",
    "print (\"The total number of feet that the tree will grow in the second year is {} ft.\".format(second_year_growth,'%2f'))\n",
    "# Growth in the third year\n",
    "\n",
    "b = 3.0\n",
    "a = 2.0\n",
    "n = 100\n",
    "\n",
    "third_year_growth = round(integrate(a,b,n),3)\n",
    "\n",
    "print (\"The total number of feet that the tree will grow during the third year is {} ft.\".format(third_year_growth))"
   ]
  },
  {
   "cell_type": "markdown",
   "metadata": {},
   "source": [
    "**16.** The 2000 census in a particular area gives us an age distribution that is approximately given (in millions) by the function\n",
    "f(x) = 41 + 2.01 x - 0.81 x<sup>2</sup>\n",
    "where x varies from 0 to 9 decades. The population of a given age group can be found by integrating this function over the\n",
    "interval for that age group.\n",
    "a. Find the integral over the interval \\[0,9\\].\n",
    "b. Find the number of people alive in 2000 that were born in the eighties, that is, those in the range of to decades in\n",
    "2000."
   ]
  },
  {
   "cell_type": "code",
   "execution_count": 15,
   "metadata": {},
   "outputs": [
    {
     "name": "stdout",
     "output_type": "stream",
     "text": [
      "The total number of people in this area between 0 and 90 years of age in the year 2000 is 254 million people.\n",
      "The total number of people in this area between 0 and 90 years of age in the year 2000 is 42 million people.\n"
     ]
    }
   ],
   "source": [
    "import matplotlib.pyplot \n",
    "from matplotlib.pyplot import *\n",
    "import numpy \n",
    "from numpy import *\n",
    "\n",
    "# Age distribution Function\n",
    "\n",
    "def f(x):\n",
    "    f = 41 + 2.01*x - 0.81*x**2 \n",
    "    return f\n",
    "\n",
    "# Integrate is a general numerical integration function.  It requires\n",
    "# an interval [a,b] and n = the number of subintervals used for integration.\n",
    "# Integrate uses the function defined as f above.  For details refer\n",
    "# to Lial Section 15.3.\n",
    "\n",
    "def integrate(a,b,n):\n",
    "    sum = 0.0\n",
    "    delta = (b-a)/n\n",
    "    i = 0\n",
    "    while i < n:\n",
    "        sum = sum + delta*(f(a+delta*(i+1))+f(a+delta*i))/2\n",
    "        i = i+1\n",
    "    return sum\n",
    "\n",
    "# (a)\n",
    "#This defines the parameters for integration.\n",
    "\n",
    "end_decade = 9.0\n",
    "start_decade = 0.0\n",
    "n=100 # number of intervals\n",
    "\n",
    "total= round(integrate(start_decade,end_decade,n))\n",
    "print (\"The total number of people in this area between 0 and 90 years of age in the year 2000 is {} million people.\".format(total,'%d'))\n",
    "\n",
    "# (b)\n",
    "end_decade = 2.0\n",
    "start_decade = 1.0\n",
    "n = 100\n",
    "\n",
    "total2= round(integrate(start_decade,end_decade,n))\n",
    "print (\"The total number of people in this area between 0 and 90 years of age in the year 2000 is {} million people.\".format(total2,'%d'))"
   ]
  }
 ],
 "metadata": {
  "kernelspec": {
   "display_name": "Python 3",
   "language": "python",
   "name": "python3"
  },
  "language_info": {
   "codemirror_mode": {
    "name": "ipython",
    "version": 3
   },
   "file_extension": ".py",
   "mimetype": "text/x-python",
   "name": "python",
   "nbconvert_exporter": "python",
   "pygments_lexer": "ipython3",
   "version": "3.6.4"
  }
 },
 "nbformat": 4,
 "nbformat_minor": 2
}
