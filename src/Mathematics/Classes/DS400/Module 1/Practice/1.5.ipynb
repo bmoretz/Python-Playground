{
 "cells": [
  {
   "cell_type": "markdown",
   "metadata": {},
   "source": [
    "# MSDS Module 1 Practice 5"
   ]
  },
  {
   "cell_type": "code",
   "execution_count": 2,
   "metadata": {},
   "outputs": [],
   "source": [
    "import numpy \n",
    "from numpy import *\n",
    "from numpy.linalg import *"
   ]
  },
  {
   "cell_type": "markdown",
   "metadata": {},
   "source": [
    "With numpy matrices, you can add, subtract, multiply, find the transpose find the inverse, solve systems of linear equations and much more.\n",
    "\n",
    "Solve a system of consistent linear equations.  Refer to Lial Section 2.5 Example 7 Cryptography for the calculation\n",
    "\n",
    "Right hand side of system of equations has data entered as a list and converted to 3x1 matrix and then a 1x3 matrix using the transpose function. Similar steps are taken for the matrix A."
   ]
  },
  {
   "cell_type": "code",
   "execution_count": 3,
   "metadata": {},
   "outputs": [
    {
     "name": "stdout",
     "output_type": "stream",
     "text": [
      "\n",
      "Right Hand Side of Equation\n",
      "[[96]\n",
      " [87]\n",
      " [74]]\n",
      "\n",
      "Matrix A\n",
      "[[1 3 4]\n",
      " [2 1 3]\n",
      " [4 2 1]]\n"
     ]
    }
   ],
   "source": [
    "rhs= [96, 87, 74]\n",
    "rhs=matrix(rhs)\n",
    "rhs=transpose(rhs)\n",
    "print ('\\nRight Hand Side of Equation')\n",
    "print (rhs)\n",
    "\n",
    "A =[[1, 3, 4], [2, 1, 3], [4, 2, 1]]\n",
    "A= matrix(A)\n",
    "print ('\\nMatrix A')\n",
    "print (A)"
   ]
  },
  {
   "cell_type": "markdown",
   "metadata": {},
   "source": [
    "Numpy has various functions to perform matrix calculations.  The inverse function inv() is one of those.\n",
    "__Inverse of A__"
   ]
  },
  {
   "cell_type": "code",
   "execution_count": 4,
   "metadata": {},
   "outputs": [
    {
     "data": {
      "text/plain": [
       "matrix([[-0.2,  0.2,  0.2],\n",
       "        [ 0.4, -0.6,  0.2],\n",
       "        [ 0. ,  0.4, -0.2]])"
      ]
     },
     "execution_count": 4,
     "metadata": {},
     "output_type": "execute_result"
    }
   ],
   "source": [
    "IA= inv(A)\n",
    "IA"
   ]
  },
  {
   "cell_type": "markdown",
   "metadata": {},
   "source": [
    "In what follows, I am converting matrices with floating point numbers  to matrices with integer numbers.  This is optional and being done to show that it is possible to do so with numpy matrices.\n",
    "\n",
    "Note that the function dot() performs matrix multiplication. Verify inverse by multiplying matrix A and its inverse IA.\n",
    "\n",
    "__Identity Matrix__"
   ]
  },
  {
   "cell_type": "code",
   "execution_count": 5,
   "metadata": {},
   "outputs": [
    {
     "data": {
      "text/plain": [
       "matrix([[0, 0, 0],\n",
       "        [0, 1, 0],\n",
       "        [0, 0, 1]])"
      ]
     },
     "execution_count": 5,
     "metadata": {},
     "output_type": "execute_result"
    }
   ],
   "source": [
    "I= dot(IA,A)\n",
    "I= int_(I)               # This converts floating point to integer.\n",
    "I"
   ]
  },
  {
   "cell_type": "markdown",
   "metadata": {},
   "source": [
    "Solve the system of equations and convert to integer values. With numpy it is necessary to use dot() for the product.\n",
    "\n",
    "__Solution to Problem__"
   ]
  },
  {
   "cell_type": "code",
   "execution_count": 6,
   "metadata": {},
   "outputs": [
    {
     "data": {
      "text/plain": [
       "matrix([[12],\n",
       "        [ 1],\n",
       "        [20]])"
      ]
     },
     "execution_count": 6,
     "metadata": {},
     "output_type": "execute_result"
    }
   ],
   "source": [
    "result = dot(IA,rhs)\n",
    "result = int_(result)    # This converts floating point to integer.\n",
    "result"
   ]
  },
  {
   "cell_type": "markdown",
   "metadata": {},
   "source": [
    "__Illustration of solution with linalg.solve(,) function__"
   ]
  },
  {
   "cell_type": "code",
   "execution_count": 7,
   "metadata": {},
   "outputs": [
    {
     "data": {
      "text/plain": [
       "matrix([[13],\n",
       "        [ 1],\n",
       "        [20]])"
      ]
     },
     "execution_count": 7,
     "metadata": {},
     "output_type": "execute_result"
    }
   ],
   "source": [
    "result2= linalg.solve(A,rhs)\n",
    "int_(result2)   # This converts floating point to integer."
   ]
  },
  {
   "cell_type": "markdown",
   "metadata": {},
   "source": [
    "Some square matrices do not have inverses. The following example shows how this is handled with numpy.  Note the magnitude of the elements.\n",
    "\n",
    "__Example of an inverse matrix for inconsistent equations__"
   ]
  },
  {
   "cell_type": "code",
   "execution_count": 8,
   "metadata": {},
   "outputs": [
    {
     "data": {
      "text/plain": [
       "array([[-3.37769972e+15, -3.37769972e+15,  6.75539944e+15],\n",
       "       [ 6.75539944e+15,  6.75539944e+15, -1.35107989e+16],\n",
       "       [-3.37769972e+15, -3.37769972e+15,  6.75539944e+15]])"
      ]
     },
     "execution_count": 8,
     "metadata": {},
     "output_type": "execute_result"
    }
   ],
   "source": [
    "A= [[1,2,3],[-3,-2,-1], [-1,0,1]]\n",
    "A= array(A)\n",
    "IA= inv(A)\n",
    "IA"
   ]
  },
  {
   "cell_type": "code",
   "execution_count": null,
   "metadata": {},
   "outputs": [],
   "source": []
  }
 ],
 "metadata": {
  "kernelspec": {
   "display_name": "Python 3",
   "language": "python",
   "name": "python3"
  },
  "language_info": {
   "codemirror_mode": {
    "name": "ipython",
    "version": 3
   },
   "file_extension": ".py",
   "mimetype": "text/x-python",
   "name": "python",
   "nbconvert_exporter": "python",
   "pygments_lexer": "ipython3",
   "version": "3.6.4"
  }
 },
 "nbformat": 4,
 "nbformat_minor": 2
}
