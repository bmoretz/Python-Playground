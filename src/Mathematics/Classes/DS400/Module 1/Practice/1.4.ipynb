{
 "cells": [
  {
   "cell_type": "markdown",
   "metadata": {},
   "source": [
    "# MSDS 400 Module 1 Practice 4\n",
    "\n",
    "Numpy lists and arrays are useful data structures that serve multiple purposes. For matrix calculations, arrays must be converted into matrices. Array manipulations are valuable for preparing data for linear algebra. Matrix calculations are shown in Session 2 Module 3. The * following \"numpy import\" makes all routines within numpy available."
   ]
  },
  {
   "cell_type": "code",
   "execution_count": 1,
   "metadata": {},
   "outputs": [],
   "source": [
    "import numpy \n",
    "from numpy import array, absolute"
   ]
  },
  {
   "cell_type": "markdown",
   "metadata": {},
   "source": [
    "This example defines a list called t, and shows how elements 1 and 3 can be located and the use of a negative index. The first element in t is indexed as 0."
   ]
  },
  {
   "cell_type": "code",
   "execution_count": 2,
   "metadata": {},
   "outputs": [
    {
     "name": "stdout",
     "output_type": "stream",
     "text": [
      "\n",
      "Value at first location: 1\n",
      "Value at third location: 3\n",
      "Value located using negative index: 2\n"
     ]
    }
   ],
   "source": [
    "t= [1, 2, 3]\n",
    "print ('\\nValue at first location:', t[0])\n",
    "print ('Value at third location:', t[2])\n",
    "print ('Value located using negative index:', t[-2])"
   ]
  },
  {
   "cell_type": "markdown",
   "metadata": {},
   "source": [
    "The next two examples demonstrate the difference between concantenation and forming an array. result2 is a list of lists or an array."
   ]
  },
  {
   "cell_type": "code",
   "execution_count": 3,
   "metadata": {},
   "outputs": [
    {
     "name": "stdout",
     "output_type": "stream",
     "text": [
      "Comparison of a concatenated list with an array \n",
      "r= [4, 5, 6]\n",
      "t= [1, 2, 3]\n",
      "Concatenation example using t and r lists. [1, 2, 3, 4, 5, 6]\n",
      "\n",
      "Comparison of concatenation with array([t,r]).\n",
      "[[1 2 3]\n",
      " [4 5 6]]\n",
      "\n",
      "The second element of the preceding list and array\n",
      "2\n",
      "[4 5 6]\n"
     ]
    }
   ],
   "source": [
    "print ('Comparison of a concatenated list with an array ')\n",
    "r= [4, 5, 6]\n",
    "print ('r=', r) \n",
    "print ('t=', t )\n",
    "result1= t + r\n",
    "print ('Concatenation example using t and r lists.', result1)\n",
    "result2=array([t,r])\n",
    "print ('\\nComparison of concatenation with array([t,r]).')\n",
    "print (result2)\n",
    "\n",
    "# Note the different results produced by indexing for a list and an array.\n",
    "print ('\\nThe second element of the preceding list and array')\n",
    "print (result1[1])\n",
    "print (result2[1])"
   ]
  },
  {
   "cell_type": "markdown",
   "metadata": {},
   "source": [
    "Array slicing is demonstrated briefly with two examples.  The first shows how to produce a single element.  The second and third show how to produce a reduced array from the original array. Array slicing goes beyond the scope of this course.  It is an essential tool for array operations."
   ]
  },
  {
   "cell_type": "code",
   "execution_count": 4,
   "metadata": {},
   "outputs": [
    {
     "name": "stdout",
     "output_type": "stream",
     "text": [
      "\n",
      "Slicing to produce an element, a column and a row of the array\n",
      "2\n",
      "[2 5]\n",
      "[4 5 6]\n"
     ]
    }
   ],
   "source": [
    "print ('\\nSlicing to produce an element, a column and a row of the array')\n",
    "print (result2[0,1])\n",
    "print (result2[:,1])  # Note the horizontal output of a column.\n",
    "print (result2[1,:])"
   ]
  },
  {
   "cell_type": "markdown",
   "metadata": {},
   "source": [
    "The next series of examples demonstrates simple array operations.  Arrays may be operated on prior to conversion to a matrix for matrix operations. Arrays can be constructed directly from lists of data."
   ]
  },
  {
   "cell_type": "code",
   "execution_count": 5,
   "metadata": {},
   "outputs": [
    {
     "name": "stdout",
     "output_type": "stream",
     "text": [
      "\n",
      "Example 1 Section 2.3 Lial showing array addition from page 72.\n",
      "\n",
      "Arrays in order: m , n and m+n\n",
      "[[10 12  5]\n",
      " [15 20  8]]\n",
      "\n",
      " [[45 35 20]\n",
      " [65 40 35]]\n",
      "\n",
      " [[55 47 25]\n",
      " [80 60 43]]\n",
      "\n",
      "Subtraction of n from m equals q\n",
      "[[-35 -23 -15]\n",
      " [-50 -20 -27]]\n",
      "\n",
      "Multiplication of q by a scalar 2.0\n",
      "[[ -70.  -46.  -30.]\n",
      " [-100.  -40.  -54.]]\n",
      "\n",
      "Functions can be applied to an array such as absolute value\n",
      "[[ 70.  46.  30.]\n",
      " [100.  40.  54.]]\n"
     ]
    }
   ],
   "source": [
    "print ('\\nExample 1 Section 2.3 Lial showing array addition from page 72.')\n",
    "m= array([[10,12,5],[15, 20, 8]])\n",
    "n= array([[45, 35, 20],[65, 40, 35]])\n",
    "q= m + n\n",
    "print ('\\nArrays in order: m , n and m+n')\n",
    "print (m) \n",
    "print ('\\n', n)   # Note that context determines the purpose of \"n\".\n",
    "print ('\\n', q) \n",
    "\n",
    "print ('\\nSubtraction of n from m equals q')\n",
    "q= m - n\n",
    "print (q)\n",
    "\n",
    "s= 2.0\n",
    "print ('\\nMultiplication of q by a scalar', s)\n",
    "q= s*q\n",
    "print (q)\n",
    "\n",
    "print ('\\nFunctions can be applied to an array such as absolute value')\n",
    "q= absolute(q)\n",
    "print (q)"
   ]
  },
  {
   "cell_type": "markdown",
   "metadata": {},
   "source": [
    "### Practice\n",
    "Exercise:  Refer to Lial Section 2.3 Example 7.  Write the code which reproduces the calculations shown in that example.  For the array which results, slice it to show 1) second row, 2) the third column and 3) the single element common to (1) and (2). Use the demonstrated array methods. Compare your code and results to the answer sheet."
   ]
  },
  {
   "cell_type": "code",
   "execution_count": null,
   "metadata": {},
   "outputs": [],
   "source": []
  }
 ],
 "metadata": {
  "kernelspec": {
   "display_name": "Python 3",
   "language": "python",
   "name": "python3"
  },
  "language_info": {
   "codemirror_mode": {
    "name": "ipython",
    "version": 3
   },
   "file_extension": ".py",
   "mimetype": "text/x-python",
   "name": "python",
   "nbconvert_exporter": "python",
   "pygments_lexer": "ipython3",
   "version": "3.6.4"
  }
 },
 "nbformat": 4,
 "nbformat_minor": 2
}
