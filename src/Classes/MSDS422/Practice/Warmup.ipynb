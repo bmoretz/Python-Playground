{
 "cells": [
  {
   "cell_type": "code",
   "execution_count": 41,
   "metadata": {
    "collapsed": true
   },
   "outputs": [],
   "source": [
    "from __future__ import division, print_function, unicode_literals\n",
    "\n",
    "# Common\n",
    "import numpy as np\n",
    "import os\n",
    "\n",
    "# stabilize runs\n",
    "np.random.seed(42)\n",
    "\n",
    "%matplotlib inline\n",
    "import matplotlib\n",
    "import matplotlib.pyplot as plt\n",
    "\n",
    "plt.rcParams[ 'axes.labelsize' ] = 14\n",
    "plt.rcParams[ 'xtick.labelsize' ] = 12\n",
    "plt.rcParams[ 'ytick.labelsize' ] = 12\n",
    "\n",
    "# Where to save figures\n",
    "PROJECT_ROOT_DIR = \"C:\\Projects\\Python-Playground\\src\\Classes\\MSDS422\\Practice\"\n",
    "\n",
    "def save_fig( fig_id, tight_layout = True ):\n",
    "    path = os.path.join( PROJECT_ROOT_DIR,  fig_id + \".png\")\n",
    "    print(\"Saving Figure:\", path)\n",
    "    if tight_layout:\n",
    "        plt.tight_layout()\n",
    "    plt.savefig( path, format = 'png', dpi = 300)\n",
    "    \n",
    "# Ignore Useless waringings (see SciPy issue #5998)\n",
    "import warnings\n",
    "warnings.filterwarnings( action = \"ignore\", module = \"scipy\", message=\"^internal gelsd\")"
   ]
  },
  {
   "cell_type": "code",
   "execution_count": 14,
   "metadata": {
    "collapsed": true
   },
   "outputs": [],
   "source": [
    "def prepare_country_stats(oecd_bli, gdp_per_capita):\n",
    "    oecd_bli = oecd_bli[oecd_bli[\"INEQUALITY\"]==\"TOT\"]\n",
    "    oecd_bli = oecd_bli.pivot(index=\"Country\", columns=\"Indicator\", values=\"Value\")\n",
    "    gdp_per_capita.rename(columns={\"2015\": \"GDP per capita\"}, inplace=True)\n",
    "    gdp_per_capita.set_index(\"Country\", inplace=True)\n",
    "    full_country_stats = pd.merge(left=oecd_bli, right=gdp_per_capita,\n",
    "                                  left_index=True, right_index=True)\n",
    "    full_country_stats.sort_values(by=\"GDP per capita\", inplace=True)\n",
    "    remove_indices = [0, 1, 6, 8, 33, 34, 35]\n",
    "    keep_indices = list(set(range(36)) - set(remove_indices))\n",
    "    return full_country_stats[[\"GDP per capita\", 'Life satisfaction']].iloc[keep_indices]"
   ]
  },
  {
   "cell_type": "code",
   "execution_count": 12,
   "metadata": {
    "collapsed": true
   },
   "outputs": [],
   "source": [
    "import os\n",
    "datapath = os.path.join(\"data\", \"lifesat\", \"\")"
   ]
  },
  {
   "cell_type": "code",
   "execution_count": 42,
   "metadata": {},
   "outputs": [
    {
     "name": "stdout",
     "output_type": "stream",
     "text": [
      "Saving Figure: C:\\Projects\\Python-Playground\\src\\Classes\\MSDS422\\Practice\\Life Satisfaction.png\n"
     ]
    },
    {
     "data": {
      "image/png": "[encoded data removed]",
      "text/plain": [
       "<matplotlib.figure.Figure at 0x1fe257457b8>"
      ]
     },
     "metadata": {},
     "output_type": "display_data"
    }
   ],
   "source": [
    "import pandas as pd\n",
    "import sklearn.linear_model\n",
    "\n",
    "# Load the data\n",
    "oecd_bli = pd.read_csv( datapath + \"oecd_bli_2015.csv\", thousands = \",\")\n",
    "gdp_per_capita = pd.read_csv( datapath + \"gdp_per_capita.csv\", thousands = \",\", delimiter = '\\t',\n",
    "                            encoding = 'latin1', na_values = \"n/a\")\n",
    "\n",
    "# Prepare the data\n",
    "country_stats = prepare_country_stats( oecd_bli, gdp_per_capita )\n",
    "X = np.c_[country_stats[ \"GDP per capita\"]]\n",
    "Y = np.c_[country_stats[ \"Life satisfaction\"]]\n",
    "\n",
    "# Visualize the data\n",
    "country_stats.plot( kind = 'scatter', x = \"GDP per capita\", y = \"Life satisfaction\")\n",
    "save_fig('Life Satisfaction')\n",
    "plt.show()"
   ]
  },
  {
   "cell_type": "code",
   "execution_count": null,
   "metadata": {
    "scrolled": true
   },
   "outputs": [],
   "source": []
  }
 ],
 "metadata": {
  "kernelspec": {
   "display_name": "Python 3",
   "language": "python",
   "name": "python3"
  },
  "language_info": {
   "codemirror_mode": {
    "name": "ipython",
    "version": 3
   },
   "file_extension": ".py",
   "mimetype": "text/x-python",
   "name": "python",
   "nbconvert_exporter": "python",
   "pygments_lexer": "ipython3",
   "version": "3.6.2"
  }
 },
 "nbformat": 4,
 "nbformat_minor": 2
}
